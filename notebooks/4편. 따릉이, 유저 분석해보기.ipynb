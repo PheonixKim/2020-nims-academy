{
 "cells": [
  {
   "cell_type": "code",
   "execution_count": null,
   "metadata": {},
   "outputs": [],
   "source": [
    "import numpy as np\n",
    "import pandas as pd\n",
    "import matplotlib as mpl\n",
    "import matplotlib.pyplot as plt\n",
    "import seaborn as sns\n",
    "\n",
    "# 이미지에 들어가는 한글을 제대로 보기 위해 한글 폰트 적용\n",
    "import platform\n",
    "font_dict = {\n",
    "    'Linux': 'Noto Sans CJK KR',\n",
    "    'Darwin': 'Apple SD Gothic Neo', # macOS\n",
    "    'Windows': 'Malgun Gothic' # MS-Windows\n",
    "}\n",
    "try:\n",
    "    mpl.rc('font', family=font_dict[platform.system()])\n",
    "except:\n",
    "    pass\n",
    "mpl.rc('axes', unicode_minus=False)\n",
    "\n",
    "%matplotlib inline"
   ]
  },
  {
   "cell_type": "markdown",
   "metadata": {},
   "source": [
    "# [All about 따릉이 EDA, 4편] 따릉이, 유저 분석해보기 by 흠시\n",
    "\n",
    "**출처:** https://dailyheumsi.tistory.com/104\n",
    "\n",
    "**데이터:** 서울특별시 공공자전거 이용정보(시간대별) @[서울 열린데이터 광장](https://data.seoul.go.kr)\n",
    "  - 대여일시, 대여시간, 대여소번호, 대여소명, 정기권유무, 성별, 연령대, 탄소량, 이동거리, 이동시간 정보를 제공\n",
    "  - https://data.seoul.go.kr/dataList/OA-15245/F/1/datasetView.do\n",
    "  - `서울특별시 공공자전거 시간대별 대여정보_201812~201905(1).csv` (용량 103.2MB, 수정일 2019.11.06)\n",
    "  - `서울특별시 공공자전거 시간대별 대여정보_201812~201905(2).csv` (용량 103.5MB, 수정일 2019.11.06)\n",
    "  - `서울특별시 공공자전거 시간대별 대여정보_201812~201905(3).csv` (용량 103.6MB, 수정일 2019.11.06)\n",
    "  - `서울특별시 공공자전거 시간대별 대여정보_201812~201905(4).csv` (용량 44.4MB, 수정일 2019.11.06)\n",
    "  - `서울특별시 공공자전거 시간대별 대여정보_201812~201905(5).csv` (용량 44.4MB, 수정일 2019.11.06)\n",
    "  - `서울특별시 공공자전거 이용정보(시간대별)_20190601_20191130(1).csv` (용량 103.6MB, 수정일 2019.12.23)\n",
    "  - `서울특별시 공공자전거 이용정보(시간대별)_20190601_20191130(2).csv` (용량 103.6MB, 수정일 2019.12.23)\n",
    "  - `서울특별시 공공자전거 이용정보(시간대별)_20190601_20191130(3).csv` (용량 103.5MB, 수정일 2019.12.23)\n",
    "  - `서울특별시 공공자전거 이용정보(시간대별)_20190601_20191130(4).csv` (용량 103.5MB, 수정일 2019.12.23)\n",
    "  - `서울특별시 공공자전거 이용정보(시간대별)_20190601_20191130(5).csv` (용량 103.5MB, 수정일 2019.12.23)\n",
    "  - `서울특별시 공공자전거 이용정보(시간대별)_20190601_20191130(6).csv` (용량 103.5MB, 수정일 2019.12.23)\n",
    "  - `서울특별시 공공자전거 이용정보(시간대별)_20190601_20191130(7).csv` (용량 103.6MB, 수정일 2019.12.23)\n",
    "  - `서울특별시 공공자전거 이용정보(시간대별)_20190601_20191130(8).csv` (용량 103.5MB, 수정일 2019.12.23)\n",
    "  - `서울특별시 공공자전거 이용정보(시간대별)_20190601_20191130(9).csv` (용량 103.3MB, 수정일 2019.12.23)\n",
    "  - `서울특별시 공공자전거 이용정보(시간대별)_20190601_20191130(10).csv` (용량 53.7MB, 수정일 2019.12.23)"
   ]
  },
  {
   "cell_type": "markdown",
   "metadata": {},
   "source": [
    "> [흠시] 따릉이를 주로 타는 사람들은 과연 누구일까??  \n",
    "남자일까? 여자일까?  \n",
    "또, 20대가 주로 탈까? 50대 이상은 잘 타지 않을까?  \n",
    "한편, 따릉이로 장거리 주행하는 사람들은 대체 누굴까??\n",
    "\n",
    "> [흠시] 이번 글에서는, 이러한 호기심을 바탕으로, 따릉이 이용자에 대한 분석을 해본다.  \n",
    "데이터는 <u>2017년 1월 ~ 2018년 12월 따릉이 데이터</u>를 사용한다."
   ]
  },
  {
   "cell_type": "code",
   "execution_count": null,
   "metadata": {},
   "outputs": [],
   "source": [
    "# 데이터 로드: 원본 데이터는 크기가 너무 크므로 압축된 데이터를 불러온다.\n",
    "#   서울특별시 공공자전거 시간대별 대여정보_201812~201905(1).csv.gz (23.5MB) ...\n",
    "#   서울특별시 공공자전거 시간대별 대여정보_201812~201905(5).csv.gz (10.6MB)\n",
    "#   서울특별시 공공자전거 이용정보(시간대별)_20190601_20191130(1).csv.gz (24.9MB) ...\n",
    "#   서울특별시 공공자전거 이용정보(시간대별)_20190601_20191130(10).csv.gz (12.5MB)\n",
    "\n",
    "from pathlib import Path\n",
    "\n",
    "데이터_폴더 = Path('../data')\n",
    "공공자전거_이용정보 = 데이터_폴더 / '서울특별시 공공자전거 이용정보(시간대별)'\n",
    "\n",
    "files = list(공공자전거_이용정보.glob('*.csv.gz'))\n",
    "files"
   ]
  },
  {
   "cell_type": "code",
   "execution_count": null,
   "metadata": {},
   "outputs": [],
   "source": [
    "# 먼저 하나의 샘플 데이터 파일을 골라 필요한 컬럼 정보를 살펴보자.\n",
    "\n",
    "sample = 공공자전거_이용정보 / \"서울특별시 공공자전거 이용정보(시간대별)_20190601_20191130(10).csv.gz\"\n",
    "#sample = 공공자전거_이용정보 / \"서울특별시 공공자전거 시간대별 대여정보_201812~201905(5).csv.gz\"\n",
    "df = pd.read_csv(sample,\n",
    "    encoding='cp949'\n",
    ")\n",
    "df.head()"
   ]
  },
  {
   "cell_type": "code",
   "execution_count": null,
   "metadata": {},
   "outputs": [],
   "source": [
    "# 운동량과 탄소량 컬럼이 숫자(float64 또는 int64)가 아님에 주의하자.\n",
    "\n",
    "df.info()"
   ]
  },
  {
   "cell_type": "code",
   "execution_count": null,
   "metadata": {},
   "outputs": [],
   "source": [
    "# 운동량 컬럼을 숫자로 바꾸려면 에러가 발생하므로, 숫자가 아닌 값은 NaN(Not a Number)으로 처리한다.\n",
    "#   df['운동량'].astype('float64')\n",
    "\n",
    "df['운동량'].replace({'\\\\N': np.nan}).astype('float64')"
   ]
  },
  {
   "cell_type": "code",
   "execution_count": null,
   "metadata": {},
   "outputs": [],
   "source": [
    "# 탄소량 컬럼도 숫자로 바꾸려면 에러가 발생하므로, 숫자가 아닌 값은 NaN(Not a Number)으로 처리한다.\n",
    "#   df['탄소량'].astype('float64')\n",
    "\n",
    "df['탄소량'].replace({'\\\\N': np.nan}).astype('float64')"
   ]
  },
  {
   "cell_type": "code",
   "execution_count": null,
   "metadata": {},
   "outputs": [],
   "source": [
    "# 컬럼의 데이터 형식을 미리 정해주자. 이번에는 category 데이터 형식을 사용한다.\n",
    "\n",
    "column_types = {\n",
    "    '대여시간': 'int64',\n",
    "    '대여소번호': 'int64',\n",
    "    '대여소명': 'category',\n",
    "    '대여구분코드': 'category',\n",
    "    '성별': 'category',\n",
    "    '연령대코드': 'category',\n",
    "    '이용건수': 'int64',\n",
    "    '운동량': 'float64',\n",
    "    '탄소량': 'float64',\n",
    "    '이동거리': 'int64',\n",
    "    '사용시간': 'int64',\n",
    "}\n",
    "\n",
    "df = pd.read_csv(sample,\n",
    "    encoding='cp949',\n",
    "    dtype=column_types,\n",
    "    na_values='\\\\N',\n",
    "    parse_dates=['대여일자']\n",
    ")\n",
    "df.info()"
   ]
  },
  {
   "cell_type": "code",
   "execution_count": null,
   "metadata": {},
   "outputs": [],
   "source": [
    "df.tail()"
   ]
  },
  {
   "cell_type": "code",
   "execution_count": null,
   "metadata": {},
   "outputs": [],
   "source": [
    "# 대여소명 카테고리 전체 집합 확인\n",
    "\n",
    "df['대여소명'].cat.categories"
   ]
  },
  {
   "cell_type": "code",
   "execution_count": null,
   "metadata": {},
   "outputs": [],
   "source": [
    "# 대여구분코드 카테고리 전체 집합 확인\n",
    "\n",
    "df['대여구분코드'].cat.categories"
   ]
  },
  {
   "cell_type": "code",
   "execution_count": null,
   "metadata": {},
   "outputs": [],
   "source": [
    "# 성별 카테고리 전체 집합 확인\n",
    "\n",
    "df['성별'].cat.categories"
   ]
  },
  {
   "cell_type": "code",
   "execution_count": null,
   "metadata": {},
   "outputs": [],
   "source": [
    "# 성별은 전부 대문자로 처리한다.\n",
    "\n",
    "df['성별'] = df['성별'].str.upper().astype('category')\n",
    "df['성별'].cat.categories"
   ]
  },
  {
   "cell_type": "code",
   "execution_count": null,
   "metadata": {},
   "outputs": [],
   "source": [
    "# 연령대코드 카테고리 전체 집합 확인\n",
    "\n",
    "df['연령대코드'].cat.categories"
   ]
  },
  {
   "cell_type": "code",
   "execution_count": null,
   "metadata": {},
   "outputs": [],
   "source": [
    "%%time\n",
    "\n",
    "# 시간대별 대여정보 전체 파일을 읽어들인 후 하나로 합하자. 시간이 꽤 걸릴 수 있다.\n",
    "\n",
    "df_list = []\n",
    "for fname in files:\n",
    "    _df = pd.read_csv(fname,\n",
    "        encoding='cp949',\n",
    "        dtype=column_types,\n",
    "        na_values='\\\\N',\n",
    "        parse_dates=['대여일자']\n",
    "    )\n",
    "    _df['성별'] = _df['성별'].str.upper().astype('category')\n",
    "    df_list.append(_df)\n",
    "\n",
    "df = pd.concat(df_list)"
   ]
  },
  {
   "cell_type": "code",
   "execution_count": null,
   "metadata": {},
   "outputs": [],
   "source": [
    "# 대여일자로 부터 연, 월, 일, 요일 컬럼을 따로 만들어 두면 편리하다.\n",
    "\n",
    "df['년'] = df['대여일자'].dt.year\n",
    "df['월'] = df['대여일자'].dt.month\n",
    "df['일'] = df['대여일자'].dt.day\n",
    "df['요일'] = df['대여일자'].dt.dayofweek\n",
    "\n",
    "df.info(memory_usage='deep')"
   ]
  },
  {
   "cell_type": "code",
   "execution_count": null,
   "metadata": {},
   "outputs": [],
   "source": [
    "# 1편에서 사용한 공공자전거 대여소 정보를 불러오자.\n",
    "# 여기에서는 대여소_구 및 대여소ID 컬럼만 사용한다.\n",
    "\n",
    "공공자전거_대여소_정보 = 데이터_폴더 / '서울특별시 공공자전거 대여소 정보(19.12.9).xlsx'\n",
    "\n",
    "rental = pd.read_excel(공공자전거_대여소_정보,\n",
    "    usecols=['대여소_구', '대여소ID'],\n",
    "    dtype={'대여소_구': 'category', '대여소ID': 'int64'},\n",
    "    skipfooter=1\n",
    ").rename(columns={'대여소ID': '대여소번호'})\n",
    "rental.info()"
   ]
  },
  {
   "cell_type": "code",
   "execution_count": null,
   "metadata": {},
   "outputs": [],
   "source": [
    "# 시간대별 대여정보와 대여소 정보를 합하자.\n",
    "\n",
    "df = df.merge(rental, on='대여소번호')\n",
    "df.head()"
   ]
  },
  {
   "cell_type": "code",
   "execution_count": null,
   "metadata": {},
   "outputs": [],
   "source": [
    "%%time\n",
    "\n",
    "# 이렇게 데이터 프레임을 매번 만들면 시간이 걸리므로 한번 만들어 놓은 데이터 프레임은 저장하자.\n",
    "# 이때 확장자를 'pkl.gz'로 만들면 자동으로 압축해 준다.\n",
    "# 시간이 오래 (몇 분) 걸릴 수 있으므로 주의하자.\n",
    "\n",
    "# df.to_pickle(데이터_폴더 / '서울특별시 공공자전거 이용정보(시간대별).pkl.gz')"
   ]
  },
  {
   "cell_type": "markdown",
   "metadata": {},
   "source": [
    "---"
   ]
  },
  {
   "cell_type": "code",
   "execution_count": null,
   "metadata": {},
   "outputs": [],
   "source": [
    "%%time\n",
    "\n",
    "# 이미 만들어 놓은 데이터 프레임을 불러오자.\n",
    "# 불러오는 시간은 저장에 비해 매우 짧다.\n",
    "\n",
    "# df = pd.read_pickle(데이터_폴더 / '서울특별시 공공자전거 이용정보(시간대별).pkl.gz')\n",
    "df.info()"
   ]
  },
  {
   "cell_type": "code",
   "execution_count": null,
   "metadata": {},
   "outputs": [],
   "source": [
    "df.head()"
   ]
  },
  {
   "cell_type": "code",
   "execution_count": null,
   "metadata": {},
   "outputs": [],
   "source": [
    "df.tail()"
   ]
  },
  {
   "cell_type": "markdown",
   "metadata": {},
   "source": [
    "---\n",
    "## 1. 성별로 나누어 살펴보기\n",
    "\n",
    "### 1.1. 남자와 여자, 둘 중에 누가 더 많이 사용할까?\n",
    "\n",
    "> [흠시] 2년 동안의 남녀 이용량과 이용비율을 시각화 해서 보자."
   ]
  },
  {
   "cell_type": "code",
   "execution_count": null,
   "metadata": {},
   "outputs": [],
   "source": [
    "# 남녀 이용량 (Series)\n",
    "\n",
    "use_per_sex = df.groupby('성별')['이용건수'].sum()\n",
    "use_per_sex"
   ]
  },
  {
   "cell_type": "code",
   "execution_count": null,
   "metadata": {},
   "outputs": [],
   "source": [
    "sex_colors = ['crimson', 'royalblue'] # 인덱스 순서대로 컬러 적용\n",
    "\n",
    "_, (ax1, ax2) = plt.subplots(ncols=2, figsize=(15, 5))\n",
    "\n",
    "use_per_sex.plot.bar(\n",
    "    rot=0,\n",
    "    color=sex_colors,\n",
    "    title=\"남녀 이용량(2018-2019)\",\n",
    "    ax=ax1\n",
    ")\n",
    "ax1.set_frame_on(False)\n",
    "ax1.ticklabel_format(axis='y', style='plain')\n",
    "for p in ax1.patches:\n",
    "    x, y, width, height = p.get_bbox().bounds\n",
    "    ax1.annotate(f\"{height / 1e6:.1f} m\", (x+width/2, height), ha='center')\n",
    "\n",
    "(use_per_sex / use_per_sex.sum()).plot.pie(\n",
    "    colors=sex_colors, # not color but colors\n",
    "    autopct=\"%.1f%%\",\n",
    "    title=\"남녀 이용비율(2018-2019)\",\n",
    "    ax=ax2\n",
    ")\n",
    "ax2.set_frame_on(False)"
   ]
  },
  {
   "cell_type": "markdown",
   "metadata": {},
   "source": [
    "> [흠시] 너무나 직관적으로 다음과 같이 말할 수 있다.  \n",
    "> > 남자가 더 많이 사용했고, 남성 이용자가 전체의 62.4% 다."
   ]
  },
  {
   "cell_type": "code",
   "execution_count": null,
   "metadata": {},
   "outputs": [],
   "source": [
    "print(\n",
    "    \"남자가 여자보다 \"\n",
    "    f\"{((use_per_sex['M'] - use_per_sex['F']) / use_per_sex['F']) * 100:.1f}%\"\n",
    "    \"(여자 이용기준) 더 많이 이용한다.\"\n",
    ")"
   ]
  },
  {
   "cell_type": "markdown",
   "metadata": {},
   "source": [
    "> [흠시] 한편, 덧붙이면, 남자가 여자보다 65%(여자 이용기준) 더 많이 이용한다."
   ]
  },
  {
   "cell_type": "markdown",
   "metadata": {},
   "source": [
    "### 1.2. 년, 월별로 이용자의 남녀 비율 변화가 있었을까?"
   ]
  },
  {
   "cell_type": "markdown",
   "metadata": {},
   "source": [
    "![](reshaping_pivot.png)\n",
    "- **출처:** https://pandas.pydata.org/pandas-docs/stable/user_guide/reshaping.html#pivot-tables"
   ]
  },
  {
   "cell_type": "code",
   "execution_count": null,
   "metadata": {},
   "outputs": [],
   "source": [
    "# 아래 pivot 명령을 수행하면 에러를 발생한다. 동일한 인덱스(년)와 동일한 컬럼(성별)을 가지는\n",
    "# 로우(row)가 둘 이상 있기 때문에 어느 것(이용건수)을 값으로 선택할 지 모호하기 때문이다.\n",
    "\n",
    "# df.pivot(index='년', columns='성별', values='이용건수')"
   ]
  },
  {
   "cell_type": "code",
   "execution_count": null,
   "metadata": {},
   "outputs": [],
   "source": [
    "# 동일한 인덱스와 동일한 컬럼을 가지는 로우들이 여럿 있을 때, 이러한 값들에 대해 sum, mean 등의\n",
    "# aggregation 함수를 적용할 수 있는 명령이 바로 pivot_table 이다.\n",
    "# pivot_table의 aggfunc 디폴트 값은 numpy.mean이다.\n",
    "\n",
    "use_per_year_sex = df.pivot_table(\n",
    "    index='년', columns='성별', values='이용건수', aggfunc='sum'\n",
    ")\n",
    "use_per_year_sex"
   ]
  },
  {
   "cell_type": "code",
   "execution_count": null,
   "metadata": {},
   "outputs": [],
   "source": [
    "# 연도별로 위 값을 백분률로 표시하려면? 먼저 연도별로 총합을 구한 후 인덱스에 따라 나누어주자.\n",
    "\n",
    "use_per_year_sex = use_per_year_sex.div(\n",
    "    use_per_year_sex.sum(axis='columns'), axis='index'\n",
    ")\n",
    "use_per_year_sex"
   ]
  },
  {
   "cell_type": "code",
   "execution_count": null,
   "metadata": {},
   "outputs": [],
   "source": [
    "# 이번에는 연도별 대신 월별로 성별 이용건수를 구해보자.\n",
    "\n",
    "use_per_month_sex = df.pivot_table(\n",
    "    index='월', columns='성별', values='이용건수', aggfunc='sum'\n",
    ")\n",
    "use_per_month_sex = use_per_month_sex.div(\n",
    "    use_per_month_sex.sum(axis='columns'), axis='index'\n",
    ")\n",
    "use_per_month_sex"
   ]
  },
  {
   "cell_type": "code",
   "execution_count": null,
   "metadata": {},
   "outputs": [],
   "source": [
    "# 아래에서 범례(legend) 박스의 지정위치(loc)는 bbox_to_anchor (x,y) 또는 (x,y,w,h)로\n",
    "# 조정할 수 있다. 즉, 그림(ax)의 bbox_to_anchor에 범례 박스의 지정위치가 놓여진다.\n",
    "\n",
    "sex_colors_dict = {'F': 'crimson', 'M': 'royalblue'} # 컬럼명에 대해 컬러를 지정\n",
    "\n",
    "_, (ax1, ax2) = plt.subplots(ncols=2, figsize=(15, 5))                     \n",
    "\n",
    "use_per_year_sex.plot.barh(\n",
    "    stacked=True,\n",
    "    rot=0,\n",
    "    color=sex_colors_dict,\n",
    "    xlabel=\"\", # barh는 xlabel과 ylabel의 위치가 다름\n",
    "    title=\"년도별 남녀 이용비율\",\n",
    "    ax=ax1\n",
    ")\n",
    "ax1.set_frame_on(False)\n",
    "ax1.legend(frameon=False, loc='center right', bbox_to_anchor=(1, 0.5))\n",
    "\n",
    "use_per_month_sex.plot.bar(\n",
    "    stacked=True,\n",
    "    rot=0,\n",
    "    color=sex_colors_dict,\n",
    "    title=\"월별 남녀 이용비율\",\n",
    "    ax=ax2\n",
    ")\n",
    "ax2.set_frame_on(False)\n",
    "ax2.legend(frameon=False, loc='center left', bbox_to_anchor=(1, 0.5));"
   ]
  },
  {
   "cell_type": "markdown",
   "metadata": {},
   "source": [
    "> [흠시] 이 역시 다음과 같이 쉽게 말할 수 있을 듯 하다.  \n",
    "> > 년으로 봤을때는 비율 변화가 없다.  \n",
    "> > 월로 봤을 때는 타기좋은 날씨(여름 전, 후)에  \n",
    "> > 여성비율이 최악일 때보다 약 10% 정도 증가한다."
   ]
  },
  {
   "cell_type": "markdown",
   "metadata": {},
   "source": [
    "### 1.3. 18년->19년, 유저가 더 많이 증가한 성별은 어딜까?"
   ]
  },
  {
   "cell_type": "code",
   "execution_count": null,
   "metadata": {},
   "outputs": [],
   "source": [
    "# 년도별 성별 이용량(월)은 DataFrame\n",
    "\n",
    "df_pivot = df.pivot_table(\n",
    "    index='성별', columns='년', values='이용건수', aggfunc='sum'\n",
    ")\n",
    "df_pivot[2019] //= 11 # 2018년은 1개월, 2019년은 11개월\n",
    "df_pivot"
   ]
  },
  {
   "cell_type": "code",
   "execution_count": null,
   "metadata": {},
   "outputs": [],
   "source": [
    "# 18년 대비 19년도 성별 이용 증가율은 Series\n",
    "\n",
    "df_pivot_ratio = (df_pivot[2019] - df_pivot[2018]) / df_pivot[2018] * 100\n",
    "df_pivot_ratio"
   ]
  },
  {
   "cell_type": "code",
   "execution_count": null,
   "metadata": {},
   "outputs": [],
   "source": [
    "_, (ax1, ax2) = plt.subplots(ncols=2, figsize=(15, 5))                     \n",
    "\n",
    "df_pivot.plot.bar(\n",
    "    rot=0,\n",
    "    color={2018: 'slateblue', 2019: 'darkslateblue'},\n",
    "    title=\"년도별 성별 이용량(월) 변화\",\n",
    "    ax=ax1\n",
    ")\n",
    "ax1.set_frame_on(False)\n",
    "ax1.legend(frameon=False)\n",
    "for p in ax1.patches:\n",
    "    x, y, width, height = p.get_bbox().bounds\n",
    "    ax1.annotate(f\"{height / 1e6:.1f} m\", (x+width/2, height), ha='center')\n",
    "\n",
    "df_pivot_ratio.plot.barh(\n",
    "    rot=0,\n",
    "    color=sex_colors,\n",
    "    title=\"18년 대비 19년도 이용 증가율(%)\",\n",
    "    ax=ax2\n",
    ")\n",
    "ax2.set_frame_on(False)\n",
    "for p in ax2.patches:\n",
    "    x, y, width, height = p.get_bbox().bounds\n",
    "    ax2.text(width*1.01, y+height/2, f\"{width:.1f}%\", va='center')"
   ]
  },
  {
   "cell_type": "code",
   "execution_count": null,
   "metadata": {},
   "outputs": [],
   "source": [
    "print(\n",
    "    \"여자 이용자가 전해대비 \"\n",
    "    f\"{((df_pivot.loc['F', 2019] - df_pivot.loc['F', 2018]) / df_pivot.loc['F', 2018]) * 100:.1f}%\"\n",
    "    \"로 남자 \"\n",
    "    f\"{((df_pivot.loc['M', 2019] - df_pivot.loc['M', 2018]) / df_pivot.loc['M', 2018]) * 100:.1f}%\"\n",
    "    \"보다 더 많이 증가했다.\"\n",
    ")"
   ]
  },
  {
   "cell_type": "markdown",
   "metadata": {},
   "source": [
    "> [흠시] 남자 이용자가 전해대비 56.6%로 여자 48.4% 보다 더 많이 증가했다."
   ]
  },
  {
   "cell_type": "markdown",
   "metadata": {},
   "source": [
    "### 1.4. 남녀별로, 평균 이용거리, 이용시간 차이가 있을까?"
   ]
  },
  {
   "cell_type": "markdown",
   "metadata": {},
   "source": [
    "> [흠시] 이번에는 violinplot 을 이용하여 시각화해보자."
   ]
  },
  {
   "cell_type": "code",
   "execution_count": null,
   "metadata": {},
   "outputs": [],
   "source": [
    "_, ax = plt.subplots(figsize=(15, 5))\n",
    "sns.violinplot(\n",
    "    x='이동거리',\n",
    "    y='성별',\n",
    "    data=df,\n",
    "    palette=sex_colors_dict,\n",
    "    ax=ax\n",
    ")\n",
    "ax.set_frame_on(False)"
   ]
  },
  {
   "cell_type": "code",
   "execution_count": null,
   "metadata": {},
   "outputs": [],
   "source": [
    "df['이동거리'].max()"
   ]
  },
  {
   "cell_type": "markdown",
   "metadata": {},
   "source": [
    "> [흠시] 무턱대고 그렸더니, 이상치들까지 같이 표시된다.  \n",
    "하루 동안 따릉이로 1600000m, 즉 1600키로를 갈 일은 상식적으로 불가능하므로, 극단치가 아니라 이상치라고 봐야한다.\n",
    "\n",
    "> [흠시] z-score 를 이용하여 이상치 값들을 제거 한 뒤, 다시 그려보면, (z-score 가 3 미만; 99.7%)"
   ]
  },
  {
   "cell_type": "code",
   "execution_count": null,
   "metadata": {},
   "outputs": [],
   "source": [
    "from scipy import stats\n",
    "\n",
    "df_robust = df[np.abs(stats.zscore(df['이동거리'])) < 3]\n",
    "df_robust['이동거리'].max()"
   ]
  },
  {
   "cell_type": "code",
   "execution_count": null,
   "metadata": {},
   "outputs": [],
   "source": [
    "_, ax = plt.subplots(figsize=(15, 5))\n",
    "sns.violinplot(\n",
    "    x='이동거리',\n",
    "    y='성별',\n",
    "    data=df_robust,\n",
    "    palette=sex_colors_dict,\n",
    "    ax=ax\n",
    ")\n",
    "ax.set_frame_on(False)"
   ]
  },
  {
   "cell_type": "markdown",
   "metadata": {},
   "source": [
    "> [흠시] 이용거리 분포. 이용시간은 이용거리와 선형관계이므로, 굳이 따로 플롯을 그리지 않았다.  \n",
    "사실, 그래도 분포는 비슷하고, 실질적인 차이를 보려면 중간값을 직접 봐야할듯 하다."
   ]
  },
  {
   "cell_type": "code",
   "execution_count": null,
   "metadata": {},
   "outputs": [],
   "source": [
    "# 성별로 이동거리와 사용시간의 중간값을 뽑아보자.\n",
    "\n",
    "df.groupby('성별')[['이동거리', '사용시간']].median()"
   ]
  },
  {
   "cell_type": "markdown",
   "metadata": {},
   "source": [
    "> [흠시] 중간값을 뽑아보면 다음과 같은 수치가 나온다.  \n",
    "> > 여자 : 이용거리 2690m, 이용시간 22분  \n",
    "> > 남자 : 이용거리 2370m, 이용시간 17분\n",
    "\n",
    "> [흠시] 종합적으로 다음과 같은 결론을 낼 수 있다.  \n",
    "> > 이용자는 남자가 더 많지만, 일반적으로 한 번 이용시간은 여자보다 짧다."
   ]
  },
  {
   "cell_type": "markdown",
   "metadata": {},
   "source": [
    "---\n",
    "## 2. 연령대로 나누어 살펴보기"
   ]
  },
  {
   "cell_type": "markdown",
   "metadata": {},
   "source": [
    "### 2.1. 어느 연령대가 제일 많이 사용할까?\n",
    "\n",
    "> [흠시] 데이터에는 10 단위 기준으로 연령대를 구분해놓았는데, 이를 바로 시각화해서 보자."
   ]
  },
  {
   "cell_type": "code",
   "execution_count": null,
   "metadata": {},
   "outputs": [],
   "source": [
    "# df['연령대코드'].cat.categories\n",
    "# Index(['20대', '30대', '40대', '50대', '60대', '70대~', '~10대'], dtype='object')\n",
    "\n",
    "age_order = ['~10대', '20대', '30대', '40대', '50대', '60대', '70대~']\n",
    "\n",
    "use_per_age = df.groupby('연령대코드')['이용건수'].sum()\n",
    "use_per_age = use_per_age.reindex(age_order)\n",
    "use_per_age"
   ]
  },
  {
   "cell_type": "code",
   "execution_count": null,
   "metadata": {},
   "outputs": [],
   "source": [
    "_, (ax1, ax2) = plt.subplots(ncols=2, figsize=(15, 5))                     \n",
    "\n",
    "use_per_age.plot.bar(\n",
    "    rot=0,\n",
    "    color=[f\"C{i}\" for i in range(len(use_per_age))],\n",
    "    ylabel=\"\",\n",
    "    title=\"연령대 이용량(2018-2019)\",\n",
    "    ax=ax1\n",
    ")\n",
    "ax1.set_frame_on(False)\n",
    "ax1.ticklabel_format(axis='y', style='plain')\n",
    "for p in ax1.patches:\n",
    "    x, y, width, height = p.get_bbox().bounds\n",
    "    ax1.annotate(f\"{height / 1e6:.1f} m\", (x+width/2, height), ha='center')\n",
    "    \n",
    "(use_per_age / use_per_age.sum()).plot.pie(\n",
    "#    colors=[f\"C{i}\" for i in range(len(use_per_age))],\n",
    "    autopct=\"%.1f%%\",\n",
    "    title=\"연령대 이용비율(2018-2019)\",\n",
    "    ax=ax2\n",
    ")\n",
    "ax2.set_frame_on(False)"
   ]
  },
  {
   "cell_type": "markdown",
   "metadata": {},
   "source": [
    "> [흠시] 20대 > 30대 > 40대 > 50대 순으로 이용자가 많다.  \n",
    "20대 이용자는 전체의 48.2%로, 이용 비율은 50대까지 선형적으로 감소한다."
   ]
  },
  {
   "cell_type": "markdown",
   "metadata": {},
   "source": [
    "### 2.2. 년, 월별로 연령대 비율 변화가 있었을까?\n",
    "\n",
    "> [흠시] 연령대 역시 성별과 마찬가지로 년, 월로 변화 비율을 봐보자."
   ]
  },
  {
   "cell_type": "code",
   "execution_count": null,
   "metadata": {},
   "outputs": [],
   "source": [
    "# 연별 연령대 비율 변화\n",
    "\n",
    "use_per_year_age = df.pivot_table(\n",
    "    index='년', columns='연령대코드', values='이용건수', aggfunc='sum'\n",
    ")\n",
    "use_per_year_age = use_per_year_age.div(\n",
    "    use_per_year_age.sum(axis='columns'), axis='index'\n",
    ")\n",
    "use_per_year_age = use_per_year_age[age_order]\n",
    "use_per_year_age"
   ]
  },
  {
   "cell_type": "code",
   "execution_count": null,
   "metadata": {},
   "outputs": [],
   "source": [
    "# 월별 연령대 비율 변화\n",
    "\n",
    "use_per_month_age = df.pivot_table(\n",
    "    index='월', columns='연령대코드', values='이용건수', aggfunc='sum'\n",
    ")\n",
    "use_per_month_age = use_per_month_age.div(\n",
    "    use_per_month_age.sum(axis='columns'), axis='index'\n",
    ")\n",
    "use_per_month_age = use_per_month_age[age_order]\n",
    "use_per_month_age"
   ]
  },
  {
   "cell_type": "code",
   "execution_count": null,
   "metadata": {},
   "outputs": [],
   "source": [
    "_, (ax1, ax2) = plt.subplots(ncols=2, figsize=(15, 5))                     \n",
    "\n",
    "use_per_year_age.plot.barh(\n",
    "    stacked=True,\n",
    "    rot=0,\n",
    "    xlabel=\"\",\n",
    "    title=\"년도별 연령대 이용비율(%)\",\n",
    "    ax=ax1\n",
    ")\n",
    "ax1.set_frame_on(False)\n",
    "ax1.legend(frameon=False, loc='upper center', ncol=7)\n",
    "for p in ax1.patches:\n",
    "    x, y, width, height = p.get_bbox().bounds\n",
    "    ax1.annotate(f\"{width * 100:.1f}\", (x+width/2, y+height/2), ha='center', va='center')\n",
    "\n",
    "use_per_month_age.plot.bar(\n",
    "    stacked=True,\n",
    "    rot=0,\n",
    "    title=\"월별 연령대 이용비율(%)\",\n",
    "    ax=ax2\n",
    ")\n",
    "ax2.set_frame_on(False)\n",
    "ax2.legend(frameon=False, loc='center left', bbox_to_anchor=(1, 0.5))\n",
    "for p in ax2.patches:\n",
    "    x, y, width, height = p.get_bbox().bounds\n",
    "    ax2.annotate(f\"{height * 100:.1f}\", (x+width/2, y+height/2), ha='center', va='center')"
   ]
  },
  {
   "cell_type": "markdown",
   "metadata": {},
   "source": [
    "> [흠시] 먼저, 왼쪽 플롯을 보면, 2017년에서 2018년으로 갈 때, 연령대 비율 변화가 거의 없었음을 알 수 있다.  \n",
    "있다면, 50대가 6.7 -> 5.8% 로 줄고, 10대가 1.9 -> 2.6% 로 증가한 정도가 있겠다.\n",
    "\n",
    "> [흠시] 오른쪽 플롯은 월별로 연령대별 이용자 비율을 나타내는데, 각 연령대마다 월이 지남에 따라 어떤 경향성을 가지는지 알기가 힘들다.  \n",
    "질문을 좀 바꿔, 어떤 연령대끼리 이용비율이 변하는데 있어 비슷한 경향을 가지는지 조사해보자.  \n",
    "피어슨 상관계수를 이용하여, 클러스터 맵으로 시각화하면 쉽게 알아낼 수 있다."
   ]
  },
  {
   "cell_type": "code",
   "execution_count": null,
   "metadata": {},
   "outputs": [],
   "source": [
    "sns.clustermap(\n",
    "    use_per_month_age.corr(),\n",
    "    cmap='coolwarm',\n",
    "    vmin=-1, vmax=1,\n",
    "    annot=True,\n",
    "    fmt=\".1f\"\n",
    ");"
   ]
  },
  {
   "cell_type": "markdown",
   "metadata": {},
   "source": [
    "> [흠시] 30, 40, 50, 60대가 월별 이용비율 변화에 비슷한 경향을 지니고 있다.  \n",
    "한편, 20대와 30대는 상관계수가 0.9로, 굉장히 강한 음의 선형관계를 가지는 것도 알 수 있다.  \n",
    "정리하면 다음과 같다.  \n",
    "> > 년으로 봤을때는 비율 변화가 없다.  \n",
    "> > 월로 봤을 때는 30~60대가 비슷한 경향으로 변화하고,  \n",
    "> > 특히, 20대와 30대는 정반대 변화 경향을 갖는다."
   ]
  },
  {
   "cell_type": "markdown",
   "metadata": {},
   "source": [
    "### 2.3. 18년->19년, 어느 연령대 유저가 더 많이 증가했을까?"
   ]
  },
  {
   "cell_type": "code",
   "execution_count": null,
   "metadata": {},
   "outputs": [],
   "source": [
    "# 연령대별 연간 이용건수(월) (DataFrame)\n",
    "\n",
    "df_pivot = df.pivot_table(\n",
    "    index=['연령대코드'], columns='년', values='이용건수', aggfunc='sum'\n",
    ")\n",
    "df_pivot[2019] //= 11\n",
    "df_pivot = df_pivot.reindex(age_order)\n",
    "df_pivot"
   ]
  },
  {
   "cell_type": "code",
   "execution_count": null,
   "metadata": {},
   "outputs": [],
   "source": [
    "# 연령대별 18년 대비 19년도 이용 증가율 (Series)\n",
    "\n",
    "df_pivot_ratio = (df_pivot[2019] - df_pivot[2018]) / df_pivot[2018] * 100\n",
    "df_pivot_ratio.sort_values(inplace=True)\n",
    "df_pivot_ratio"
   ]
  },
  {
   "cell_type": "code",
   "execution_count": null,
   "metadata": {},
   "outputs": [],
   "source": [
    "_, (ax1, ax2) = plt.subplots(ncols=2, figsize=(15, 5))                     \n",
    "\n",
    "df_pivot.plot.bar(\n",
    "    rot=0,\n",
    "    color={2018: 'slateblue', 2019: 'darkslateblue'},\n",
    "    title=\"년도별 연령대 이용량(월) 변화\",\n",
    "    ax=ax1\n",
    ")\n",
    "ax1.set_frame_on(False)\n",
    "ax1.legend(frameon=False)\n",
    "\n",
    "df_pivot_ratio.plot.barh(\n",
    "    rot=0,\n",
    "    color=[f\"C{i}\" for i in range(len(df_pivot_ratio))],\n",
    "    xlabel=\"\",\n",
    "    title=\"18년 대비 19년도 이용 증가율(%)\",\n",
    "    ax=ax2\n",
    ")\n",
    "ax2.set_frame_on(False)"
   ]
  },
  {
   "cell_type": "markdown",
   "metadata": {},
   "source": [
    "> [흠시] 전반적으로 모든 연령대가 다 증가하였고,  \n",
    "특히, 50대 유저가 전해대비 약 80% 증가로 가장 많이 증가했다."
   ]
  },
  {
   "cell_type": "markdown",
   "metadata": {},
   "source": [
    "### 2.4. 연령별로, 평균 이용거리, 이용시간 차이가 있을까?\n",
    "\n",
    "> [흠시] violinplot 보다 boxplot 이 데이터를 더 잘 보여줄듯 하여, 이번에는 boxplot 으로 시각화 해본다."
   ]
  },
  {
   "cell_type": "code",
   "execution_count": null,
   "metadata": {},
   "outputs": [],
   "source": [
    "_, ax = plt.subplots(figsize=(15, 5))\n",
    "sns.boxplot(\n",
    "    x='이동거리',\n",
    "    y='연령대코드',\n",
    "    data=df,\n",
    "    ax=ax\n",
    ")\n",
    "ax.set_frame_on(False)"
   ]
  },
  {
   "cell_type": "markdown",
   "metadata": {},
   "source": [
    "> [흠시] 그대로 그리면, 이상치가 너무 많아서, z-score < 3 으로 ~몇번 거른뒤~ 시각화 하자."
   ]
  },
  {
   "cell_type": "code",
   "execution_count": null,
   "metadata": {},
   "outputs": [],
   "source": [
    "from scipy import stats\n",
    "\n",
    "df_robust = df[np.abs(stats.zscore(df['이동거리'])) < 1]\n",
    "df_robust['이동거리'].max()"
   ]
  },
  {
   "cell_type": "code",
   "execution_count": null,
   "metadata": {},
   "outputs": [],
   "source": [
    "_, ax = plt.subplots(figsize=(15, 5))\n",
    "sns.boxplot(\n",
    "    x='이동거리',\n",
    "    y='연령대코드',\n",
    "    data=df_robust,\n",
    "    ax=ax\n",
    ")\n",
    "ax.set_frame_on(False)"
   ]
  },
  {
   "cell_type": "markdown",
   "metadata": {},
   "source": [
    "> [흠시] 뭐, 상식적이게도, 역시 젊을수록 오래 이동한다. 10대를 제외하고는 말이다.  \n",
    "그래도 중간값은 생각보다 그렇게 큰 차이를 보이지는 않는다.  \n",
    "> > 역시, 젊은 사람들(10대 제외)이 일반적으로 오래탄다."
   ]
  },
  {
   "cell_type": "markdown",
   "metadata": {},
   "source": [
    "---\n",
    "## 3. 연령 x 성별로 좀 더 살펴보기\n",
    "\n",
    "> [흠시] 이번에는 각 연령대별을 이루고 있는 성별,  \n",
    "혹은 각 성별 내 연령대비율에 대해서 좀 더 자세히 살펴본다."
   ]
  },
  {
   "cell_type": "markdown",
   "metadata": {},
   "source": [
    "\n",
    "### 3.1. 연령대 내 성별 비율"
   ]
  },
  {
   "cell_type": "code",
   "execution_count": null,
   "metadata": {},
   "outputs": [],
   "source": [
    "df_pivot = df.pivot_table(\n",
    "    index=\"연령대코드\", columns=\"성별\", values=\"이용건수\", aggfunc=\"sum\"\n",
    ")\n",
    "df_pivot = df_pivot.div(df_pivot.sum(axis='columns'), axis='index')\n",
    "df_pivot.sort_values('F', inplace=True)\n",
    "df_pivot"
   ]
  },
  {
   "cell_type": "code",
   "execution_count": null,
   "metadata": {},
   "outputs": [],
   "source": [
    "ax = df_pivot.plot.barh(\n",
    "    stacked=True,\n",
    "    rot=0,\n",
    "    color=sex_colors_dict,\n",
    "    xlabel=\"\", # barh는 xlabel과 ylabel의 위치가 다름\n",
    "    title=\"연령대별 성별 비율(%)\",\n",
    "    figsize=(10, 5)\n",
    ")\n",
    "ax.set_frame_on(False)\n",
    "ax.legend(frameon=False, loc='center left', bbox_to_anchor=(1, 0.5))\n",
    "for p in ax.patches:\n",
    "    x, y, width, height = p.get_bbox().bounds\n",
    "    ax.annotate(f\"{width * 100:.1f}\", (x+width/2, y+height/2), ha='center', va='center')"
   ]
  },
  {
   "cell_type": "markdown",
   "metadata": {},
   "source": [
    "> [흠시] 먼저 전반적으로 전 연령대에서 남성비율이 많기는 하지만, 여성비율이 26~46%로 차이가 난다.  \n",
    "먼저 70대 이상에서, 여성 비율이 46.2%로 제일 많고,  \n",
    "주 이용자였던 20대 -> 40대로 갈수록 여성비율이 감소함을 알 수 있다.  \n",
    "> > 전 연령대에서 남성비율이 53~73%로 여성보다 많지만,  \n",
    "> > 주 이용자 연령인 20대는 남성이 55.6%로 여성과 10% 차이밖에 안난다."
   ]
  },
  {
   "cell_type": "markdown",
   "metadata": {},
   "source": [
    "### 3.2. 성별 내 연령대 비율"
   ]
  },
  {
   "cell_type": "code",
   "execution_count": null,
   "metadata": {},
   "outputs": [],
   "source": [
    "df_pivot = df.pivot_table(\n",
    "    index=\"성별\", columns=\"연령대코드\", values=\"이용건수\", aggfunc=\"sum\"\n",
    ")\n",
    "df_pivot = df_pivot.div(df_pivot.sum(axis='columns'), axis='index')\n",
    "df_pivot = df_pivot.reindex(columns=age_order)\n",
    "df_pivot"
   ]
  },
  {
   "cell_type": "code",
   "execution_count": null,
   "metadata": {},
   "outputs": [],
   "source": [
    "ax = df_pivot.plot.barh(\n",
    "    stacked=True,\n",
    "    rot=0,\n",
    "    xlabel=\"\", # barh는 xlabel과 ylabel의 위치가 다름\n",
    "    title=\"성별별 연령 비율(%)\",\n",
    "    figsize=(10, 5)\n",
    ")\n",
    "ax.set_frame_on(False)\n",
    "ax.legend(frameon=False, loc='center left', bbox_to_anchor=(1, 0.5))\n",
    "for p in ax.patches:\n",
    "    x, y, width, height = p.get_bbox().bounds\n",
    "    ax.annotate(f\"{width * 100:.1f}\", (x+width/2, y+height/2), ha='center', va='center')"
   ]
  },
  {
   "cell_type": "markdown",
   "metadata": {},
   "source": [
    "> [흠시] 여자의 경우 남자보다 20대 비율이 더 높음을 알 수 있다.  \n",
    "반대로, 남자의 경우 20대 비율은 여자보다 적지만, 나머지 30대와 40대 비율이 조금 더 높은 것을 알 수 있다.  \n",
    "> > 여자의 경우, 20대에 이용자 비율이 남자보다 14% 정도 더 몰려있다."
   ]
  },
  {
   "cell_type": "markdown",
   "metadata": {},
   "source": [
    "---\n",
    "## 4. 지역별로 나누어 살펴보기\n",
    "\n",
    "### 4.1. 지역별로 연령이나 성별 비율이 다르진 않을까?"
   ]
  },
  {
   "cell_type": "code",
   "execution_count": null,
   "metadata": {},
   "outputs": [],
   "source": [
    "df_pivot = df.pivot_table(\n",
    "    index='대여소_구', columns='연령대코드', values='이용건수', aggfunc='sum'\n",
    ")\n",
    "df_pivot = df_pivot.div(df_pivot.sum(axis='columns'), axis='index')\n",
    "df_pivot.sort_values('20대', inplace=True)\n",
    "df_pivot"
   ]
  },
  {
   "cell_type": "code",
   "execution_count": null,
   "metadata": {},
   "outputs": [],
   "source": [
    "ax = df_pivot.plot.barh(\n",
    "    stacked=True,\n",
    "    rot=0,\n",
    "    xlabel=\"\", # barh는 xlabel과 ylabel의 위치가 다름\n",
    "    title=\"지역별 이용자 연령대 비율\",\n",
    "    figsize=(10, 8)\n",
    ")\n",
    "ax.set_frame_on(False)\n",
    "ax.legend(frameon=False, loc='center left', bbox_to_anchor=(1, 0.5));"
   ]
  },
  {
   "cell_type": "markdown",
   "metadata": {},
   "source": [
    "> [흠시] 위 플롯이 한 눈에 들어오지 않는다면, 주 이용층인 그냥 20대만 집중해서 살펴보자.  \n",
    "먼저, 광진구나 노원구의 경우, 이용자의 약 60%가 20대임을 알 수 있다.  \n",
    "한편, 서초, 금천의 경우 40%가 안된다.  \n",
    "20대의 비중이 크게는 지역별로 20%나 차이가 난다는 것이다.\n",
    "\n",
    "> [흠시] 그렇다면, 특정 지역구 내, 대여소에도 이런 차이가 있을까?  \n",
    "20대의 비중이 높은 광진구 내 대여소들만 살펴보도록 하자."
   ]
  },
  {
   "cell_type": "code",
   "execution_count": null,
   "metadata": {},
   "outputs": [],
   "source": [
    "gwangjin = df[df['대여소_구'] == '광진구']\n",
    "\n",
    "df_pivot = gwangjin.pivot_table(\n",
    "    index=\"대여소명\", columns='연령대코드', values='이용건수', aggfunc='sum'\n",
    ")\n",
    "df_pivot = df_pivot.div(df_pivot.sum(axis='columns'), axis='index')\n",
    "df_pivot.sort_values('20대', inplace=True)\n",
    "df_pivot"
   ]
  },
  {
   "cell_type": "code",
   "execution_count": null,
   "metadata": {},
   "outputs": [],
   "source": [
    "ax = df_pivot.plot.barh(\n",
    "    stacked=True,\n",
    "    rot=0,\n",
    "    xlabel=\"\", # barh는 xlabel과 ylabel의 위치가 다름\n",
    "    title=\"광진구 대여소별 이용자 연령대 비율\",\n",
    "    figsize=(10, 12)\n",
    ")\n",
    "ax.set_frame_on(False)\n",
    "ax.legend(frameon=False, loc='center left', bbox_to_anchor=(1, 0.5));"
   ]
  },
  {
   "cell_type": "markdown",
   "metadata": {},
   "source": [
    "> [흠시] 대여소 역시, 20대 비중이 많게는 80%를 넘고, 적게는 30%도 안된다.  \n",
    "20대 비중이 많은 상위 대여소들을 살펴보면, 세종대학교, 건국대학교 등.. 대부분 대학 근처 대여소들이다.  \n",
    "한편, 20대 비중이 낮은 곳은, 아파트, 중학교, 도서관 등.. 상식적으로 20대의 이용비율이 낮을만한 곳들이다.\n",
    "\n",
    "> [흠시] 그렇다면, 이번엔 지역별로 성별 비율을 보면 어떨까?"
   ]
  },
  {
   "cell_type": "code",
   "execution_count": null,
   "metadata": {},
   "outputs": [],
   "source": [
    "df_pivot = df.pivot_table(\n",
    "    index='대여소_구', columns='성별', values='이용건수', aggfunc='sum'\n",
    ")\n",
    "df_pivot = df_pivot.div(df_pivot.sum(axis='columns'), axis='index')\n",
    "df_pivot.sort_values('M', inplace=True)\n",
    "df_pivot = df_pivot.reindex(columns=['M', 'F'])\n",
    "df_pivot"
   ]
  },
  {
   "cell_type": "code",
   "execution_count": null,
   "metadata": {},
   "outputs": [],
   "source": [
    "ax = df_pivot.plot.barh(\n",
    "    stacked=True,\n",
    "    rot=0,\n",
    "    color=sex_colors_dict,\n",
    "    xlabel=\"\", # barh는 xlabel과 ylabel의 위치가 다름\n",
    "    title=\"지역별 이용자 성별 비율\",\n",
    "    figsize=(10, 8)\n",
    ")\n",
    "ax.set_frame_on(False)\n",
    "ax.legend(frameon=False, loc='center left', bbox_to_anchor=(1, 0.5));"
   ]
  },
  {
   "cell_type": "markdown",
   "metadata": {},
   "source": [
    "> [흠시] 뭐 역시나, 전 지역에서 남성 이용자가 더 많은 패턴은 동일하다.  \n",
    "지역별 남녀 차이도 10% 내외로 그렇게 두드러지지 않는다.\n",
    "\n",
    "> [흠시] 정리하면,  \n",
    "> > 지역별, 그리고 지역 내 대여소마다 이용자의 연령비율은 확연히 다르다.  \n",
    "> > 성별비율은 그다지 유의미하게 다르지 않다."
   ]
  },
  {
   "cell_type": "markdown",
   "metadata": {},
   "source": [
    "---\n",
    "## 5. 다루지 않은 내용들\n",
    "\n",
    "사실 데이터를 열어보면, 더 확인하고 싶었고, 확인할 수 있는 내용들이 꽤 있었다.  \n",
    "예를 들어, 장거리 주행자는 누구일까? 라든가, 따릉이 속력 분포는 어떻게 되어있을까? 등 이라든지...\n",
    "\n",
    "하지만 여기서 다루지 않는 이유는, 아니 사실 다뤄봤음에도 글을 쓰지 않는 이유는  \n",
    "1.  장거리 주행자들? 위에서 살펴본 연령x성별 분포와 유사하다. 따로 살펴보는게 별 의미가 없을 듯 싶어서.\n",
    "2.  이용거리와 이용시간에 이상값들이 너무 많다. 예를 들어, 이용시간이 0이라든가, 이용거리가 300000이라든가..  \n",
    "    문제는, 이상치인지, 정상적인 범주에서의 극단값인지 명확하지가 않다.  \n",
    "    따라서, 구태여 위험을 무릎쓴 해석은 다른 분께 넘겨본다.이상치 많아서 의미없음."
   ]
  }
 ],
 "metadata": {
  "kernelspec": {
   "display_name": "Python 3",
   "language": "python",
   "name": "python3"
  },
  "language_info": {
   "codemirror_mode": {
    "name": "ipython",
    "version": 3
   },
   "file_extension": ".py",
   "mimetype": "text/x-python",
   "name": "python",
   "nbconvert_exporter": "python",
   "pygments_lexer": "ipython3",
   "version": "3.8.5"
  }
 },
 "nbformat": 4,
 "nbformat_minor": 4
}
